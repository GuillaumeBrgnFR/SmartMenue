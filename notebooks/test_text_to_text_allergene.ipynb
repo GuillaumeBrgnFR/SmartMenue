{
 "cells": [
  {
   "cell_type": "code",
   "execution_count": 1,
   "metadata": {},
   "outputs": [],
   "source": [
    "import cohere\n",
    "\n",
    "co = cohere.ClientV2(\"jDRziy0rPDlXjCY9gvzEcV4BxfVCSQ4BavvnJ011\")\n",
    "#co = cohere.ClientV2(\"7HJV6CGrabnCQWomhg45iZHzDuOHiI91RfkrhDNr\")"
   ]
  },
  {
   "cell_type": "code",
   "execution_count": 9,
   "metadata": {},
   "outputs": [],
   "source": [
    "plat = \"Tapenade d'olives noires maison et ses toasts\"\n",
    "prompt = (\n",
    "    f\"Voici le nom d'un plat de restaurant : {plat}.\"\n",
    "    \"Donne moi la liste des allergènes présents dans ce plat sous la forme d'une chaine de caractères séparés par des virgules.\"\n",
    "    \"S'il est possible que des allergènes soient présent dans un tel plat, même sans être sur, tu peux les mentionner.\"\n",
    ")\n",
    "\n",
    "response = co.chat(\n",
    "    model=\"command-r-plus-08-2024\",\n",
    "    messages=[{\"role\": \"user\", \"content\":prompt}],\n",
    ")"
   ]
  },
  {
   "cell_type": "code",
   "execution_count": 10,
   "metadata": {},
   "outputs": [
    {
     "data": {
      "text/plain": [
       "'Gluten, fruits à coque'"
      ]
     },
     "execution_count": 10,
     "metadata": {},
     "output_type": "execute_result"
    }
   ],
   "source": [
    "response.dict()[\"message\"]['content'][0]['text']"
   ]
  }
 ],
 "metadata": {
  "kernelspec": {
   "display_name": "venv",
   "language": "python",
   "name": "python3"
  },
  "language_info": {
   "codemirror_mode": {
    "name": "ipython",
    "version": 3
   },
   "file_extension": ".py",
   "mimetype": "text/x-python",
   "name": "python",
   "nbconvert_exporter": "python",
   "pygments_lexer": "ipython3",
   "version": "3.9.20"
  }
 },
 "nbformat": 4,
 "nbformat_minor": 2
}
