{
 "cells": [
  {
   "cell_type": "code",
   "execution_count": 45,
   "metadata": {},
   "outputs": [
    {
     "name": "stdout",
     "output_type": "stream",
     "text": [
      "id='17ead2e5-3919-4b47-b430-e806350da0ea' finish_reason='COMPLETE' prompt=None message=AssistantMessageResponse(role='assistant', tool_calls=None, tool_plan=None, content=[TextAssistantMessageResponseContentItem(type='text', text='{\\n  \"entrees\": [\\n    \"BUFALA E RUCOLA: tomates-cerise, mozzarella, huile d\\'olive extra vierge, basilic et roquette\"\\n  ],\\n  \"plats_principaux\": [\\n    \"SAUMON GRILLÉ: saumon bio grillé, scarole sautée\",\\n    \"TAGLIATA: piccata de veau au citron et fleurs de câpres\"\\n  ],\\n  \"desserts\": [\\n    \"TIRAMISÜ: tiramisü classique, copeaux de chocolat, crème fouettée\"\\n  ]\\n}')], citations=None) usage=Usage(billed_units=UsageBilledUnits(input_tokens=188.0, output_tokens=125.0, search_units=None, classifications=None), tokens=UsageTokens(input_tokens=389.0, output_tokens=125.0)) logprobs=None\n"
     ]
    }
   ],
   "source": [
    "import cohere\n",
    "\n",
    "co = cohere.ClientV2(\"jDRziy0rPDlXjCY9gvzEcV4BxfVCSQ4BavvnJ011\")\n",
    "\n",
    "menu_text = \"\"\"\n",
    "ENTRÉE\n",
    "BUFALA E RUCOLA\n",
    "tomates-cerise, mozzarella, huile d'olive extra vierge, basilic & roquette.\n",
    "\n",
    "PLAT PRINCIPAL\n",
    "SAUMON GRILLÉ\n",
    "saumon bio grillé servi avec scarole sautée.\n",
    "\n",
    "TAGLIATA\n",
    "piccata de veau au citron & fleurs de câpres.\n",
    "\n",
    "DESSERT\n",
    "TIRAMISÜ\n",
    "tiramisü classique aux copeaux de chocolat avec crème fouettée.\n",
    "\"\"\"\n",
    "prompt = (\n",
    "    f\"Voici un menu de restaurant :\\n\\n{menu_text}\\n\\n\"\n",
    "    \"Transforme ce texte en un JSON strictement structuré. Chaque section (Entrées, Plats, Desserts, Boissons, Vins) \"\n",
    "    \"doit être une clé. Tu peux choisir une clé qui correspond mieux au nom de la section.\"\n",
    "    \"Les éléments correspondants doivent être des listes. Ne réponds rien d'autre que le JSON.\"\n",
    ")\n",
    "\n",
    "response = co.chat(\n",
    "    model=\"command-r-plus-08-2024\",\n",
    "    messages=[{\"role\": \"user\", \"content\":prompt}],\n",
    ")\n",
    "\n",
    "print(response)\n"
   ]
  },
  {
   "cell_type": "code",
   "execution_count": 46,
   "metadata": {},
   "outputs": [],
   "source": [
    "response = response.dict()"
   ]
  },
  {
   "cell_type": "code",
   "execution_count": 47,
   "metadata": {},
   "outputs": [
    {
     "data": {
      "text/plain": [
       "'{\\n  \"entrees\": [\\n    \"BUFALA E RUCOLA: tomates-cerise, mozzarella, huile d\\'olive extra vierge, basilic et roquette\"\\n  ],\\n  \"plats_principaux\": [\\n    \"SAUMON GRILLÉ: saumon bio grillé, scarole sautée\",\\n    \"TAGLIATA: piccata de veau au citron et fleurs de câpres\"\\n  ],\\n  \"desserts\": [\\n    \"TIRAMISÜ: tiramisü classique, copeaux de chocolat, crème fouettée\"\\n  ]\\n}'"
      ]
     },
     "execution_count": 47,
     "metadata": {},
     "output_type": "execute_result"
    }
   ],
   "source": [
    "res = response[\"message\"]['content'][0]['text']\n",
    "res"
   ]
  },
  {
   "cell_type": "code",
   "execution_count": 48,
   "metadata": {},
   "outputs": [
    {
     "data": {
      "text/plain": [
       "{'entrees': [\"BUFALA E RUCOLA: tomates-cerise, mozzarella, huile d'olive extra vierge, basilic et roquette\"],\n",
       " 'plats_principaux': ['SAUMON GRILLÉ: saumon bio grillé, scarole sautée',\n",
       "  'TAGLIATA: piccata de veau au citron et fleurs de câpres'],\n",
       " 'desserts': ['TIRAMISÜ: tiramisü classique, copeaux de chocolat, crème fouettée']}"
      ]
     },
     "execution_count": 48,
     "metadata": {},
     "output_type": "execute_result"
    }
   ],
   "source": [
    "res_dict = eval(res)\n",
    "res_dict"
   ]
  }
 ],
 "metadata": {
  "kernelspec": {
   "display_name": "venv",
   "language": "python",
   "name": "python3"
  },
  "language_info": {
   "codemirror_mode": {
    "name": "ipython",
    "version": 3
   },
   "file_extension": ".py",
   "mimetype": "text/x-python",
   "name": "python",
   "nbconvert_exporter": "python",
   "pygments_lexer": "ipython3",
   "version": "3.9.20"
  }
 },
 "nbformat": 4,
 "nbformat_minor": 2
}
