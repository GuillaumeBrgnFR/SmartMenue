{
 "cells": [
  {
   "cell_type": "code",
   "execution_count": 1,
   "metadata": {},
   "outputs": [],
   "source": [
    "import os\n",
    "os.chdir(\"../\")\n",
    "\n",
    "import pytesseract\n",
    "import easyocr\n",
    "import json\n",
    "from PIL import Image"
   ]
  },
  {
   "cell_type": "code",
   "execution_count": 2,
   "metadata": {},
   "outputs": [],
   "source": [
    "filename = 'data/menues/001.jpg'\n",
    "filename_text = 'data/menues_text/001.txt'"
   ]
  },
  {
   "cell_type": "code",
   "execution_count": 4,
   "metadata": {},
   "outputs": [
    {
     "data": {
      "text/plain": [
       "'De la ferme  Cuisse de canard confit frites maison salade  1590 €  Le magret de canard servi entier frites maison ou salade sauce Bordelaise  2290 €  Sauce au choix  roquefort poivre vert bordelaise tartare  A la criée  Poisson du moment selon arrivage 1650 € Accompagné de légumes et riz  Menu Petits Girondins 990 € Jusqu’à 12 ans  1 soda au choix Coca Cola limonade Ice Tea pêche sirop  Steak haché ou Fish’n’Chips Glace (chocolat vanille fraise)  ou Moelleux au chocolat  Menu végétarien 1950 €  Tapenade d’olives noires maison et ses toasts  Tatin de légumes au pesto et salade fraîcheur (Crudités)  Salade de fruits  Ou Dessert au choix  Nos Desserts Niniche Bordelaise  690 € Panna cotta (fruits rouges ou caramel) 690 € Tiramisu  750 € Crème brûlée  750 € Crème Citron  Passion Spéculoos  750 € Coulant au chocolat  750 € Les trois boules de glace  750 € (Vanille chocolat fraise) Pain perdu et sa glace vanille  850 € Café gourmand  850 € Brebis fermier de la vallée d’Ossau confiture de cerises noires  790 €'"
      ]
     },
     "execution_count": 4,
     "metadata": {},
     "output_type": "execute_result"
    }
   ],
   "source": [
    "image = Image.open(filename)\n",
    "with open(filename_text, 'r') as f:\n",
    "    text = f.read().replace('\\n', ' ').replace(\".\", \"\").replace(\",\", \"\").replace(\":\", \"\").replace(\";\", \"\").replace(\"!\", \"\").replace(\"?\", \"\").replace(\"…\", \"\").replace(\"|\", \"\").replace(\"/\", \"\").replace(\"-\", \"\")\n",
    "text"
   ]
  },
  {
   "cell_type": "code",
   "execution_count": 4,
   "metadata": {},
   "outputs": [
    {
     "name": "stdout",
     "output_type": "stream",
     "text": [
      "EasyOCR: \n",
      " De la ferme..- Menu Petits Girondins 9.90 € Cuisse de canard confit, Jusqu'à 12 ans frites maison, salade 15.90 € soda au choix Le magret de canard servi entier; frites Coca Cola, limonade, Ice Tea pêche, sirop maison ou salade, sauce Bordelaise 22.90 € Steak haché ou Fish'n Sauce au choix : roquefort; poivre vert; Glace (chocolat;, vanille, fraise) bordelaise, tartare ou Moelleux au chocolat A la criée.. Poisson du moment; selon arrivage. 16.50 € Accompagné de légumes et riz Nos Desserts Niniche Bordelaise 6.90 € Menu végétarien Panna cotta fruits rouges ou caramel) 6.90 € 19.50 € Tiramisu . 7.50 € Crème brûlée 7.50 € Tapenade dolives noires maison et ses toasts Crème Citron Passion Spéculoos 7.50 € Tatin de légumes au Coulant au chocolat 7.50 € et salade fraîcheur (Crudités) Les trois boules de glace 7.50 € Vanille; chocolat, fraise) Salade de fruits Pain et sa glace vanille 8.50 € Ou Café gourmand 8.50 € Dessert au choix Brebis fermier de la vallée d'Ossau, confiture de cerises noires 7.90 € Chips pesto perdu\n"
     ]
    }
   ],
   "source": [
    "reader = easyocr.Reader(['fr'])\n",
    "result_ocr = reader.readtext(filename, detail=0) \n",
    "print(\"EasyOCR: \\n\", \"\\n\".join(result_ocr).replace('\\n', ' '))#.replace(\".\", \"\").replace(\",\", \"\").replace(\":\", \"\").replace(\";\", \"\").replace(\"!\", \"\").replace(\"?\", \"\").replace(\"…\", \"\").replace(\"|\", \"\").replace(\"/\", \"\").replace(\"-\", \"\"))"
   ]
  },
  {
   "cell_type": "code",
   "execution_count": 9,
   "metadata": {},
   "outputs": [
    {
     "data": {
      "text/plain": [
       "\"+\\n\\nENTRÉE\\n\\nBUFALA E RUCOLA\\n\\ntomates-cerise, mozzarella, huile d'olive\\nextra vierge, basilic & roquette.\\n\\nPLAT PRINCIPAL\\n\\nSAUMON GRILLÉ\\n\\nsaumon bio grillé servi avec scarole\\nsautée\\n\\nTAGLIATA\\n\\npiccata de veau au citron & fleurs de\\ncâpres\\n\\nDESSERT\\n\\nTIRAMISÜ\\n\\ntiramisü classique aux copeaux de\\nchocolat avec crème fouettée\\n\\n\""
      ]
     },
     "execution_count": 9,
     "metadata": {},
     "output_type": "execute_result"
    }
   ],
   "source": [
    "#result_tes = pytesseract.image_to_data(image, lang='fra', output_type=pytesseract.Output.DICT)\n",
    "result_tes = pytesseract.image_to_string(image, lang='fra')\n",
    "#with open('output.json', 'w', encoding='utf-8') as f:\n",
    "#    json.dump(result_tes, f, indent=4, ensure_ascii=False)\n",
    "result_tes\n",
    "#print(\"Tesseract: \\n\", result_tes)#.replace('\\n', ' ').replace(\".\", \"\").replace(\",\", \"\").replace(\":\", \"\").replace(\";\", \"\").replace(\"!\", \"\").replace(\"?\", \"\").replace(\"…\", \"\").replace(\"|\", \"\").replace(\"/\", \"\").replace(\"-\", \"\"))"
   ]
  },
  {
   "cell_type": "code",
   "execution_count": 5,
   "metadata": {},
   "outputs": [
    {
     "data": {
      "application/vnd.jupyter.widget-view+json": {
       "model_id": "982e772397864c7d83e92ffe17618796",
       "version_major": 2,
       "version_minor": 0
      },
      "text/plain": [
       "Loading checkpoint shards:   0%|          | 0/5 [00:00<?, ?it/s]"
      ]
     },
     "metadata": {},
     "output_type": "display_data"
    },
    {
     "ename": "",
     "evalue": "",
     "output_type": "error",
     "traceback": [
      "\u001b[1;31mThe Kernel crashed while executing code in the current cell or a previous cell. \n",
      "\u001b[1;31mPlease review the code in the cell(s) to identify a possible cause of the failure. \n",
      "\u001b[1;31mClick <a href='https://aka.ms/vscodeJupyterKernelCrash'>here</a> for more info. \n",
      "\u001b[1;31mView Jupyter <a href='command:jupyter.viewOutput'>log</a> for further details."
     ]
    }
   ],
   "source": [
    "# Load model directly\n",
    "from transformers import AutoProcessor, AutoModelForImageTextToText\n",
    "\n",
    "local_model_path = \"./models/Qwen2-VL-7B-Instruct\"\n",
    "processor = AutoProcessor.from_pretrained(\"Qwen/Qwen2-VL-7B-Instruct\", cache_dir=local_model_path)\n",
    "model = AutoModelForImageTextToText.from_pretrained(\"Qwen/Qwen2-VL-7B-Instruct\", cache_dir=local_model_path)\n",
    "\n",
    "inputs = processor(image, text, return_tensors=\"pt\", padding=\"max_length\", max_length=128, truncation=True)\n",
    "outputs = model(**inputs)\n",
    "predicted_ids = outputs.logits.argmax(-1)\n",
    "result = processor.decode(predicted_ids[0], skip_special_tokens=True)\n",
    "print(\"Qwen: \\n\", result)#.replace('\\n', ' ').replace(\".\", \"\").replace(\",\", \"\").replace(\":\", \"\").replace(\";\", \"\").replace(\"!\", \"\").replace(\"?\", \"\").replace(\"…\", \"\").replace(\"|\", \"\").replace(\"/\", \"\").replace(\"-\", \"\")\n"
   ]
  }
 ],
 "metadata": {
  "kernelspec": {
   "display_name": "venv",
   "language": "python",
   "name": "python3"
  },
  "language_info": {
   "codemirror_mode": {
    "name": "ipython",
    "version": 3
   },
   "file_extension": ".py",
   "mimetype": "text/x-python",
   "name": "python",
   "nbconvert_exporter": "python",
   "pygments_lexer": "ipython3",
   "version": "3.9.20"
  }
 },
 "nbformat": 4,
 "nbformat_minor": 2
}
