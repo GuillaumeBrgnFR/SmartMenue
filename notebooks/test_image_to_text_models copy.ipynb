{
 "cells": [
  {
   "cell_type": "code",
   "execution_count": 1,
   "metadata": {},
   "outputs": [],
   "source": [
    "import os\n",
    "os.chdir(\"../\")\n",
    "\n",
    "import pytesseract\n",
    "import easyocr\n",
    "import json\n",
    "from PIL import Image"
   ]
  },
  {
   "cell_type": "code",
   "execution_count": 8,
   "metadata": {},
   "outputs": [],
   "source": [
    "filename = 'data/menues/001.jpg'\n",
    "filename_text = 'data/menues_text/004.txt'"
   ]
  },
  {
   "cell_type": "code",
   "execution_count": 5,
   "metadata": {},
   "outputs": [
    {
     "data": {
      "text/plain": [
       "'Menu  ENTRÉE BUFALA E RUCOLA Tomatescerise mozzarella huile d’olive extra vierge basilic & roquette  PLAT PRINCIPAL SAUMON GRILLÉ Saumon bio grillé servi avec scarole sautée  TAGLIATA Piccata de veau au citron & fleurs de câpres  DESSERT TIRAMISÙ Tiramisu classique aux copeaux de chocolat avec crème fouettée '"
      ]
     },
     "execution_count": 5,
     "metadata": {},
     "output_type": "execute_result"
    }
   ],
   "source": [
    "image = Image.open(filename)\n",
    "with open(filename_text, 'r') as f:\n",
    "    text = f.read().replace('\\n', ' ').replace(\".\", \"\").replace(\",\", \"\").replace(\":\", \"\").replace(\";\", \"\").replace(\"!\", \"\").replace(\"?\", \"\").replace(\"…\", \"\").replace(\"|\", \"\").replace(\"/\", \"\").replace(\"-\", \"\")\n",
    "text"
   ]
  },
  {
   "cell_type": "code",
   "execution_count": 4,
   "metadata": {},
   "outputs": [
    {
     "name": "stdout",
     "output_type": "stream",
     "text": [
      "EasyOCR: \n",
      " De la ferme..- Menu Petits Girondins 9.90 € Cuisse de canard confit, Jusqu'à 12 ans frites maison, salade 15.90 € soda au choix Le magret de canard servi entier; frites Coca Cola, limonade, Ice Tea pêche, sirop maison ou salade, sauce Bordelaise 22.90 € Steak haché ou Fish'n Sauce au choix : roquefort; poivre vert; Glace (chocolat;, vanille, fraise) bordelaise, tartare ou Moelleux au chocolat A la criée.. Poisson du moment; selon arrivage. 16.50 € Accompagné de légumes et riz Nos Desserts Niniche Bordelaise 6.90 € Menu végétarien Panna cotta fruits rouges ou caramel) 6.90 € 19.50 € Tiramisu . 7.50 € Crème brûlée 7.50 € Tapenade dolives noires maison et ses toasts Crème Citron Passion Spéculoos 7.50 € Tatin de légumes au Coulant au chocolat 7.50 € et salade fraîcheur (Crudités) Les trois boules de glace 7.50 € Vanille; chocolat, fraise) Salade de fruits Pain et sa glace vanille 8.50 € Ou Café gourmand 8.50 € Dessert au choix Brebis fermier de la vallée d'Ossau, confiture de cerises noires 7.90 € Chips pesto perdu\n"
     ]
    }
   ],
   "source": [
    "reader = easyocr.Reader(['fr'])\n",
    "result_ocr = reader.readtext(filename, detail=0) \n",
    "print(\"EasyOCR: \\n\", \"\\n\".join(result_ocr).replace('\\n', ' '))#.replace(\".\", \"\").replace(\",\", \"\").replace(\":\", \"\").replace(\";\", \"\").replace(\"!\", \"\").replace(\"?\", \"\").replace(\"…\", \"\").replace(\"|\", \"\").replace(\"/\", \"\").replace(\"-\", \"\"))"
   ]
  },
  {
   "cell_type": "code",
   "execution_count": 9,
   "metadata": {},
   "outputs": [
    {
     "data": {
      "text/plain": [
       "\"+\\n\\nENTRÉE\\n\\nBUFALA E RUCOLA\\n\\ntomates-cerise, mozzarella, huile d'olive\\nextra vierge, basilic & roquette.\\n\\nPLAT PRINCIPAL\\n\\nSAUMON GRILLÉ\\n\\nsaumon bio grillé servi avec scarole\\nsautée\\n\\nTAGLIATA\\n\\npiccata de veau au citron & fleurs de\\ncâpres\\n\\nDESSERT\\n\\nTIRAMISÜ\\n\\ntiramisü classique aux copeaux de\\nchocolat avec crème fouettée\\n\\n\""
      ]
     },
     "execution_count": 9,
     "metadata": {},
     "output_type": "execute_result"
    }
   ],
   "source": [
    "#result_tes = pytesseract.image_to_data(image, lang='fra', output_type=pytesseract.Output.DICT)\n",
    "result_tes = pytesseract.image_to_string(image, lang='fra')\n",
    "#with open('output.json', 'w', encoding='utf-8') as f:\n",
    "#    json.dump(result_tes, f, indent=4, ensure_ascii=False)\n",
    "result_tes\n",
    "#print(\"Tesseract: \\n\", result_tes)#.replace('\\n', ' ').replace(\".\", \"\").replace(\",\", \"\").replace(\":\", \"\").replace(\";\", \"\").replace(\"!\", \"\").replace(\"?\", \"\").replace(\"…\", \"\").replace(\"|\", \"\").replace(\"/\", \"\").replace(\"-\", \"\"))"
   ]
  },
  {
   "cell_type": "code",
   "execution_count": null,
   "metadata": {},
   "outputs": [
    {
     "name": "stderr",
     "output_type": "stream",
     "text": [
      "/Users/guillaume/Documents/Hackathon/SmartMenue/venv/lib/python3.9/site-packages/tqdm/auto.py:21: TqdmWarning: IProgress not found. Please update jupyter and ipywidgets. See https://ipywidgets.readthedocs.io/en/stable/user_install.html\n",
      "  from .autonotebook import tqdm as notebook_tqdm\n",
      "Downloading shards:   0%|          | 0/5 [00:00<?, ?it/s]"
     ]
    }
   ],
   "source": [
    "# Load model directly\n",
    "from transformers import AutoProcessor, AutoModelForImageTextToText\n",
    "\n",
    "local_model_path = \"./models/Qwen2-VL-7B-Instruct\"\n",
    "processor = AutoProcessor.from_pretrained(\"Qwen/Qwen2-VL-7B-Instruct\", cache_dir=local_model_path)\n",
    "model = AutoModelForImageTextToText.from_pretrained(\"Qwen/Qwen2-VL-7B-Instruct\", cache_dir=local_model_path)\n",
    "\n",
    "inputs = processor(image, text, return_tensors=\"pt\", padding=\"max_length\", max_length=128, truncation=True)\n",
    "outputs = model(**inputs)\n",
    "predicted_ids = outputs.logits.argmax(-1)\n",
    "result = processor.decode(predicted_ids[0], skip_special_tokens=True)\n",
    "print(\"Qwen: \\n\", result)#.replace('\\n', ' ').replace(\".\", \"\").replace(\",\", \"\").replace(\":\", \"\").replace(\";\", \"\").replace(\"!\", \"\").replace(\"?\", \"\").replace(\"…\", \"\").replace(\"|\", \"\").replace(\"/\", \"\").replace(\"-\", \"\")\n"
   ]
  }
 ],
 "metadata": {
  "kernelspec": {
   "display_name": "venv",
   "language": "python",
   "name": "python3"
  },
  "language_info": {
   "codemirror_mode": {
    "name": "ipython",
    "version": 3
   },
   "file_extension": ".py",
   "mimetype": "text/x-python",
   "name": "python",
   "nbconvert_exporter": "python",
   "pygments_lexer": "ipython3",
   "version": "3.9.20"
  }
 },
 "nbformat": 4,
 "nbformat_minor": 2
}
