{
 "cells": [
  {
   "cell_type": "code",
   "execution_count": 1,
   "metadata": {},
   "outputs": [],
   "source": [
    "import os\n",
    "os.chdir(\"../\")\n",
    "\n",
    "import pytesseract\n",
    "import easyocr\n",
    "from PIL import Image"
   ]
  },
  {
   "cell_type": "code",
   "execution_count": 2,
   "metadata": {},
   "outputs": [],
   "source": [
    "filename = 'data/menues/menu.jpg'\n",
    "filename_text = 'data/menues_text/002.txt'"
   ]
  },
  {
   "cell_type": "code",
   "execution_count": 3,
   "metadata": {},
   "outputs": [
    {
     "data": {
      "text/plain": [
       "'La cuisine de Linnéa & Xsénia Délicieuse Cuisine Internationale  PetitDéjeuner  Œufs et toast $300 Weisswurst et bretzel $500  Déjeuner  Sandwich $600 Cheeseburger ou hamburger $700 Poisson & champignons $800  Dessert  Gâteau au chocolat $400 Salade de fruits $200  Boissons  Thé $100 Limonade $200 Lait $300'"
      ]
     },
     "execution_count": 3,
     "metadata": {},
     "output_type": "execute_result"
    }
   ],
   "source": [
    "image = Image.open(filename)\n",
    "with open(filename_text, 'r') as f:\n",
    "    text = f.read().replace('\\n', ' ').replace(\".\", \"\").replace(\",\", \"\").replace(\":\", \"\").replace(\";\", \"\").replace(\"!\", \"\").replace(\"?\", \"\").replace(\"…\", \"\").replace(\"|\", \"\").replace(\"/\", \"\").replace(\"-\", \"\")\n",
    "text"
   ]
  },
  {
   "cell_type": "code",
   "execution_count": 4,
   "metadata": {},
   "outputs": [
    {
     "name": "stdout",
     "output_type": "stream",
     "text": [
      "EasyOCR: \n",
      " Tout 4tMEnu Nos Sandwichs avec boisson 33cl Servis en_pain normal ou tortilla avec frites et sauces qu choix CHICKEN Crudités, poulet curry, cheddar, œuf 6,90 € VEGETARIEN Crudités, galette de pomme de terre, cheddar, poivron, oignon 6,90 € AMERICAIN Crudités 2 steaks, cheddar, œuf 7,50 € TRIPLEX Crudités, 3 steaks; bacon, 3 cheddars 7,90 € CROQ CHEF Crudités, poulet curry, crème fraiche emmental, fromage, cheddar 7,90 € ROYAL Crudités 2 steaks, cheddar , galette de pomme de terre, œuf 7,90 € Nos Burgers Garnis avec salade_tomates fraîches et cornichons Servis_avec frites et sauces au choix CHEESE BURGER 1 steak, 1 cheddar 6,50 € DOUBLE_CHEESE 2 steaks, 2 cheddars 7,50 € FISH BURGER Poisson pané, 1 cheddar 6,90 € BIG BURGER 2 steaks, cheddars, galette 7,90 € de pomme de terre Nos Croqs BACON BURGER 1 steak, 1 cheddar, bacon, œuf 6,90 € Garnis de salade et tomates CHICKEN Poulet pané, 1 cheddar; œuf 6,90 € Servis avec frites et sauces au choix BURGER CROQ1 2 pains de mie, jambon; 5,90 € raclette CHEVRE MIEL 1 steak, 1 cheddar, chèvre, miel 6,90 € TANK 1 1 steak 180g 2 cheddars 8,90 € CROQ 2 2 pains de mie, jambon; 5,90 € chèvre IANK2 2 steaks 180g 4 cheddars 9,90 € CROQ 3 pains de mie, 1 steak 6,90 € cheddar, lardons CROQ4 3 pains de mie, 2 steaks, 8,50 € 2 cheddars, lardons, œuf Nos Tacos Sauce fromagè re maison Servis avec frites et sauces au choix Viandes au choix Poulet curny tenders_merquez_nuggets_steak_cordon bleu viande 7,90 € 2 viandes 8,90€ viandes 9,90 € Sauces qu_choix ketchup mayonnaise; Suppléments algérienne, américaine, samurai, brazil , 1 € bacon, œuf, cheddar, boursin; vache qui rit, mozzarella, miel barbecue, biggy, burger, blanche, harissa; 15 € chorizo, galette de pomme de lardon andalouse terre,\n"
     ]
    }
   ],
   "source": [
    "reader = easyocr.Reader(['fr'])\n",
    "result_ocr = reader.readtext(filename, detail=0) \n",
    "print(\"EasyOCR: \\n\", \"\\n\".join(result_ocr).replace('\\n', ' '))#.replace(\".\", \"\").replace(\",\", \"\").replace(\":\", \"\").replace(\";\", \"\").replace(\"!\", \"\").replace(\"?\", \"\").replace(\"…\", \"\").replace(\"|\", \"\").replace(\"/\", \"\").replace(\"-\", \"\"))"
   ]
  },
  {
   "cell_type": "code",
   "execution_count": 5,
   "metadata": {},
   "outputs": [
    {
     "name": "stdout",
     "output_type": "stream",
     "text": [
      "Tesseract: \n",
      " os Sandwich\n",
      "\n",
      "Servis en pain normal ou tortilla avec frites et\n",
      "sauces au choix\n",
      "\n",
      "CHICKEN Crudités, poulet curry, cheddar, œuf 6,90€\n",
      "VEGETARIEN Crudités, galette de pomme de terre, cheddar, poivron, oignon 6,90€\n",
      "AMERICAIN Crudités , 2 steaks, cheddar, œuf 7,50€\n",
      "TRIPLE X Crudités, 3 steaks, bacon, 3 cheddars 7,90€\n",
      "CROQ CHEF Crudités, poulet curry, crème fraiche , emmental, fromage, cheddar 7,90€\n",
      "ROYAL Crudités , 2 steaks, cheddar, galette de pomme de terre, œuf 7,90€\n",
      "\n",
      "Nos Burgers\n",
      "\n",
      "Garnis avec salade, tomates fraîches et cornichons\n",
      "Servis avec frites et sauces au choix\n",
      "\n",
      "2 pains de mie, 1 steak, 6,90€\n",
      "cheddar, lardons\n",
      "\n",
      "CHEESE BURGER 1 steak, 1 cheddar 6,50€\n",
      "DOUBLE CHEESE 2 steaks, 2 cheddars 7,50€\n",
      "FISH BURGER Poisson pané, 1 cheddar 6,90€\n",
      "BIG BURGER 2 steaks, 2 cheddars, 1 galette 7,90€ N C\n",
      "\n",
      "de pomme de terre OS roqs\n",
      "BACON BURGER 1 steak, 1 cheddar, bacon, œuf 6,90€ Garnis de salade et tomates\n",
      "CHICKEN Poulet pané, 1 cheddar, œuf 6,90€  Servis avec frites et sauces au choix\n",
      "BURGER CROQ1 2pains de mie, jambon, 5,90€\n",
      "CHEVRE MIEL 1 steak, 1 cheddar, chèvre, miel 6,90€ raclette\n",
      "TANK1 1 steak 180g, 2 cheddars 8,90€ CRoQ2 EC de mie, jambon, 5,90€\n",
      "TANK2 2 steaks 180g, 4 cheddars 9,90€ cRoQ3\n",
      "\n",
      "CROQ 4\n",
      "\n",
      "3 pains de mie, 2 steaks, 8,50€\n",
      "\n",
      "N O S Ta C O S 2 cheddars, lardons, œuf\n",
      "\n",
      "Sauce fromagère maison\n",
      "Servis avec frites et sauces au choix\n",
      "\n",
      "Viandes au choix : Poulet curry, tenders, merguez, nuggets, steak, cordon bleu\n",
      "\n",
      "viande. 7,90 €\n",
      "\n",
      "Sauces au choix : ketchup , mayonnaise, Suppléments :\n",
      "\n",
      "algérienne, américaine, samurai, brazil, 1%€: bacon, œuf, cheddar, boursin, vache qui rit, mozzarella, miel\n",
      "barbecue, biggy, burger, blanche, harissa, 1,5 € : chorizo, galette de pomme de terre, lardon\n",
      "\n",
      "andalouse\n",
      "\n",
      "\n"
     ]
    }
   ],
   "source": [
    "result_tes = pytesseract.image_to_string(image, lang='fra')\n",
    "print(\"Tesseract: \\n\", result_tes)#.replace('\\n', ' ').replace(\".\", \"\").replace(\",\", \"\").replace(\":\", \"\").replace(\";\", \"\").replace(\"!\", \"\").replace(\"?\", \"\").replace(\"…\", \"\").replace(\"|\", \"\").replace(\"/\", \"\").replace(\"-\", \"\"))"
   ]
  },
  {
   "cell_type": "code",
   "execution_count": 6,
   "metadata": {},
   "outputs": [
    {
     "name": "stderr",
     "output_type": "stream",
     "text": [
      "/Users/guillaume/Documents/Hackathon/SmartMenue/venv/lib/python3.9/site-packages/tqdm/auto.py:21: TqdmWarning: IProgress not found. Please update jupyter and ipywidgets. See https://ipywidgets.readthedocs.io/en/stable/user_install.html\n",
      "  from .autonotebook import tqdm as notebook_tqdm\n",
      "Downloading shards: 100%|██████████| 5/5 [11:07<00:00, 133.43s/it]\n",
      "`Qwen2VLRotaryEmbedding` can now be fully parameterized by passing the model config through the `config` argument. All other arguments will be removed in v4.46\n",
      "Loading checkpoint shards: 100%|██████████| 5/5 [00:27<00:00,  5.50s/it]\n"
     ]
    }
   ],
   "source": [
    "# Load model directly\n",
    "from transformers import AutoProcessor, AutoModelForImageTextToText\n",
    "\n",
    "local_model_path = \"./models/Qwen2-VL-7B-Instruct\"\n",
    "processor = AutoProcessor.from_pretrained(\"Qwen/Qwen2-VL-7B-Instruct\", cache_dir=local_model_path)\n",
    "model = AutoModelForImageTextToText.from_pretrained(\"Qwen/Qwen2-VL-7B-Instruct\", cache_dir=local_model_path)"
   ]
  },
  {
   "cell_type": "code",
   "execution_count": 7,
   "metadata": {},
   "outputs": [
    {
     "ename": "ValueError",
     "evalue": "Unrecognized model in ./models/Qwen2-VL-7B-Instruct. Should have a `model_type` key in its config.json, or contain one of the following strings in its name: albert, align, altclip, audio-spectrogram-transformer, autoformer, bark, bart, beit, bert, bert-generation, big_bird, bigbird_pegasus, biogpt, bit, blenderbot, blenderbot-small, blip, blip-2, bloom, bridgetower, bros, camembert, canine, chameleon, chinese_clip, chinese_clip_vision_model, clap, clip, clip_text_model, clip_vision_model, clipseg, clvp, code_llama, codegen, cohere, conditional_detr, convbert, convnext, convnextv2, cpmant, ctrl, cvt, dac, data2vec-audio, data2vec-text, data2vec-vision, dbrx, deberta, deberta-v2, decision_transformer, deformable_detr, deit, depth_anything, deta, detr, dinat, dinov2, distilbert, donut-swin, dpr, dpt, efficientformer, efficientnet, electra, encodec, encoder-decoder, ernie, ernie_m, esm, falcon, falcon_mamba, fastspeech2_conformer, flaubert, flava, fnet, focalnet, fsmt, funnel, fuyu, gemma, gemma2, git, glm, glpn, gpt-sw3, gpt2, gpt_bigcode, gpt_neo, gpt_neox, gpt_neox_japanese, gptj, gptsan-japanese, granite, granitemoe, graphormer, grounding-dino, groupvit, hiera, hubert, ibert, idefics, idefics2, idefics3, imagegpt, informer, instructblip, instructblipvideo, jamba, jetmoe, jukebox, kosmos-2, layoutlm, layoutlmv2, layoutlmv3, led, levit, lilt, llama, llava, llava_next, llava_next_video, llava_onevision, longformer, longt5, luke, lxmert, m2m_100, mamba, mamba2, marian, markuplm, mask2former, maskformer, maskformer-swin, mbart, mctct, mega, megatron-bert, mgp-str, mimi, mistral, mixtral, mllama, mobilebert, mobilenet_v1, mobilenet_v2, mobilevit, mobilevitv2, moshi, mpnet, mpt, mra, mt5, musicgen, musicgen_melody, mvp, nat, nemotron, nezha, nllb-moe, nougat, nystromformer, olmo, olmoe, omdet-turbo, oneformer, open-llama, openai-gpt, opt, owlv2, owlvit, paligemma, patchtsmixer, patchtst, pegasus, pegasus_x, perceiver, persimmon, phi, phi3, phimoe, pix2struct, pixtral, plbart, poolformer, pop2piano, prophetnet, pvt, pvt_v2, qdqbert, qwen2, qwen2_audio, qwen2_audio_encoder, qwen2_moe, qwen2_vl, rag, realm, recurrent_gemma, reformer, regnet, rembert, resnet, retribert, roberta, roberta-prelayernorm, roc_bert, roformer, rt_detr, rt_detr_resnet, rwkv, sam, seamless_m4t, seamless_m4t_v2, segformer, seggpt, sew, sew-d, siglip, siglip_vision_model, speech-encoder-decoder, speech_to_text, speech_to_text_2, speecht5, splinter, squeezebert, stablelm, starcoder2, superpoint, swiftformer, swin, swin2sr, swinv2, switch_transformers, t5, table-transformer, tapas, time_series_transformer, timesformer, timm_backbone, trajectory_transformer, transfo-xl, trocr, tvlt, tvp, udop, umt5, unispeech, unispeech-sat, univnet, upernet, van, video_llava, videomae, vilt, vipllava, vision-encoder-decoder, vision-text-dual-encoder, visual_bert, vit, vit_hybrid, vit_mae, vit_msn, vitdet, vitmatte, vits, vivit, wav2vec2, wav2vec2-bert, wav2vec2-conformer, wavlm, whisper, xclip, xglm, xlm, xlm-prophetnet, xlm-roberta, xlm-roberta-xl, xlnet, xmod, yolos, yoso, zamba, zoedepth",
     "output_type": "error",
     "traceback": [
      "\u001b[0;31m---------------------------------------------------------------------------\u001b[0m",
      "\u001b[0;31mValueError\u001b[0m                                Traceback (most recent call last)",
      "Cell \u001b[0;32mIn[7], line 3\u001b[0m\n\u001b[1;32m      1\u001b[0m \u001b[38;5;28;01mfrom\u001b[39;00m \u001b[38;5;21;01mtransformers\u001b[39;00m \u001b[38;5;28;01mimport\u001b[39;00m AutoProcessor, AutoModelForImageTextToText\n\u001b[1;32m      2\u001b[0m local_model_path \u001b[38;5;241m=\u001b[39m \u001b[38;5;124m\"\u001b[39m\u001b[38;5;124m./models/Qwen2-VL-7B-Instruct\u001b[39m\u001b[38;5;124m\"\u001b[39m\n\u001b[0;32m----> 3\u001b[0m processor \u001b[38;5;241m=\u001b[39m \u001b[43mAutoProcessor\u001b[49m\u001b[38;5;241;43m.\u001b[39;49m\u001b[43mfrom_pretrained\u001b[49m\u001b[43m(\u001b[49m\u001b[43mlocal_model_path\u001b[49m\u001b[43m)\u001b[49m\n\u001b[1;32m      4\u001b[0m model \u001b[38;5;241m=\u001b[39m AutoModelForImageTextToText\u001b[38;5;241m.\u001b[39mfrom_pretrained(local_model_path)\n\u001b[1;32m      5\u001b[0m inputs \u001b[38;5;241m=\u001b[39m processor(image, text, return_tensors\u001b[38;5;241m=\u001b[39m\u001b[38;5;124m\"\u001b[39m\u001b[38;5;124mpt\u001b[39m\u001b[38;5;124m\"\u001b[39m, padding\u001b[38;5;241m=\u001b[39m\u001b[38;5;124m\"\u001b[39m\u001b[38;5;124mmax_length\u001b[39m\u001b[38;5;124m\"\u001b[39m, max_length\u001b[38;5;241m=\u001b[39m\u001b[38;5;241m128\u001b[39m, truncation\u001b[38;5;241m=\u001b[39m\u001b[38;5;28;01mTrue\u001b[39;00m)\n",
      "File \u001b[0;32m~/Documents/Hackathon/SmartMenue/venv/lib/python3.9/site-packages/transformers/models/auto/processing_auto.py:299\u001b[0m, in \u001b[0;36mAutoProcessor.from_pretrained\u001b[0;34m(cls, pretrained_model_name_or_path, **kwargs)\u001b[0m\n\u001b[1;32m    296\u001b[0m \u001b[38;5;28;01mif\u001b[39;00m processor_class \u001b[38;5;129;01mis\u001b[39;00m \u001b[38;5;28;01mNone\u001b[39;00m:\n\u001b[1;32m    297\u001b[0m     \u001b[38;5;66;03m# Otherwise, load config, if it can be loaded.\u001b[39;00m\n\u001b[1;32m    298\u001b[0m     \u001b[38;5;28;01mif\u001b[39;00m \u001b[38;5;129;01mnot\u001b[39;00m \u001b[38;5;28misinstance\u001b[39m(config, PretrainedConfig):\n\u001b[0;32m--> 299\u001b[0m         config \u001b[38;5;241m=\u001b[39m \u001b[43mAutoConfig\u001b[49m\u001b[38;5;241;43m.\u001b[39;49m\u001b[43mfrom_pretrained\u001b[49m\u001b[43m(\u001b[49m\n\u001b[1;32m    300\u001b[0m \u001b[43m            \u001b[49m\u001b[43mpretrained_model_name_or_path\u001b[49m\u001b[43m,\u001b[49m\u001b[43m \u001b[49m\u001b[43mtrust_remote_code\u001b[49m\u001b[38;5;241;43m=\u001b[39;49m\u001b[43mtrust_remote_code\u001b[49m\u001b[43m,\u001b[49m\u001b[43m \u001b[49m\u001b[38;5;241;43m*\u001b[39;49m\u001b[38;5;241;43m*\u001b[39;49m\u001b[43mkwargs\u001b[49m\n\u001b[1;32m    301\u001b[0m \u001b[43m        \u001b[49m\u001b[43m)\u001b[49m\n\u001b[1;32m    303\u001b[0m     \u001b[38;5;66;03m# And check if the config contains the processor class.\u001b[39;00m\n\u001b[1;32m    304\u001b[0m     processor_class \u001b[38;5;241m=\u001b[39m \u001b[38;5;28mgetattr\u001b[39m(config, \u001b[38;5;124m\"\u001b[39m\u001b[38;5;124mprocessor_class\u001b[39m\u001b[38;5;124m\"\u001b[39m, \u001b[38;5;28;01mNone\u001b[39;00m)\n",
      "File \u001b[0;32m~/Documents/Hackathon/SmartMenue/venv/lib/python3.9/site-packages/transformers/models/auto/configuration_auto.py:1049\u001b[0m, in \u001b[0;36mAutoConfig.from_pretrained\u001b[0;34m(cls, pretrained_model_name_or_path, **kwargs)\u001b[0m\n\u001b[1;32m   1046\u001b[0m         \u001b[38;5;28;01mif\u001b[39;00m pattern \u001b[38;5;129;01min\u001b[39;00m \u001b[38;5;28mstr\u001b[39m(pretrained_model_name_or_path):\n\u001b[1;32m   1047\u001b[0m             \u001b[38;5;28;01mreturn\u001b[39;00m CONFIG_MAPPING[pattern]\u001b[38;5;241m.\u001b[39mfrom_dict(config_dict, \u001b[38;5;241m*\u001b[39m\u001b[38;5;241m*\u001b[39munused_kwargs)\n\u001b[0;32m-> 1049\u001b[0m \u001b[38;5;28;01mraise\u001b[39;00m \u001b[38;5;167;01mValueError\u001b[39;00m(\n\u001b[1;32m   1050\u001b[0m     \u001b[38;5;124mf\u001b[39m\u001b[38;5;124m\"\u001b[39m\u001b[38;5;124mUnrecognized model in \u001b[39m\u001b[38;5;132;01m{\u001b[39;00mpretrained_model_name_or_path\u001b[38;5;132;01m}\u001b[39;00m\u001b[38;5;124m. \u001b[39m\u001b[38;5;124m\"\u001b[39m\n\u001b[1;32m   1051\u001b[0m     \u001b[38;5;124mf\u001b[39m\u001b[38;5;124m\"\u001b[39m\u001b[38;5;124mShould have a `model_type` key in its \u001b[39m\u001b[38;5;132;01m{\u001b[39;00mCONFIG_NAME\u001b[38;5;132;01m}\u001b[39;00m\u001b[38;5;124m, or contain one of the following strings \u001b[39m\u001b[38;5;124m\"\u001b[39m\n\u001b[1;32m   1052\u001b[0m     \u001b[38;5;124mf\u001b[39m\u001b[38;5;124m\"\u001b[39m\u001b[38;5;124min its name: \u001b[39m\u001b[38;5;132;01m{\u001b[39;00m\u001b[38;5;124m'\u001b[39m\u001b[38;5;124m, \u001b[39m\u001b[38;5;124m'\u001b[39m\u001b[38;5;241m.\u001b[39mjoin(CONFIG_MAPPING\u001b[38;5;241m.\u001b[39mkeys())\u001b[38;5;132;01m}\u001b[39;00m\u001b[38;5;124m\"\u001b[39m\n\u001b[1;32m   1053\u001b[0m )\n",
      "\u001b[0;31mValueError\u001b[0m: Unrecognized model in ./models/Qwen2-VL-7B-Instruct. Should have a `model_type` key in its config.json, or contain one of the following strings in its name: albert, align, altclip, audio-spectrogram-transformer, autoformer, bark, bart, beit, bert, bert-generation, big_bird, bigbird_pegasus, biogpt, bit, blenderbot, blenderbot-small, blip, blip-2, bloom, bridgetower, bros, camembert, canine, chameleon, chinese_clip, chinese_clip_vision_model, clap, clip, clip_text_model, clip_vision_model, clipseg, clvp, code_llama, codegen, cohere, conditional_detr, convbert, convnext, convnextv2, cpmant, ctrl, cvt, dac, data2vec-audio, data2vec-text, data2vec-vision, dbrx, deberta, deberta-v2, decision_transformer, deformable_detr, deit, depth_anything, deta, detr, dinat, dinov2, distilbert, donut-swin, dpr, dpt, efficientformer, efficientnet, electra, encodec, encoder-decoder, ernie, ernie_m, esm, falcon, falcon_mamba, fastspeech2_conformer, flaubert, flava, fnet, focalnet, fsmt, funnel, fuyu, gemma, gemma2, git, glm, glpn, gpt-sw3, gpt2, gpt_bigcode, gpt_neo, gpt_neox, gpt_neox_japanese, gptj, gptsan-japanese, granite, granitemoe, graphormer, grounding-dino, groupvit, hiera, hubert, ibert, idefics, idefics2, idefics3, imagegpt, informer, instructblip, instructblipvideo, jamba, jetmoe, jukebox, kosmos-2, layoutlm, layoutlmv2, layoutlmv3, led, levit, lilt, llama, llava, llava_next, llava_next_video, llava_onevision, longformer, longt5, luke, lxmert, m2m_100, mamba, mamba2, marian, markuplm, mask2former, maskformer, maskformer-swin, mbart, mctct, mega, megatron-bert, mgp-str, mimi, mistral, mixtral, mllama, mobilebert, mobilenet_v1, mobilenet_v2, mobilevit, mobilevitv2, moshi, mpnet, mpt, mra, mt5, musicgen, musicgen_melody, mvp, nat, nemotron, nezha, nllb-moe, nougat, nystromformer, olmo, olmoe, omdet-turbo, oneformer, open-llama, openai-gpt, opt, owlv2, owlvit, paligemma, patchtsmixer, patchtst, pegasus, pegasus_x, perceiver, persimmon, phi, phi3, phimoe, pix2struct, pixtral, plbart, poolformer, pop2piano, prophetnet, pvt, pvt_v2, qdqbert, qwen2, qwen2_audio, qwen2_audio_encoder, qwen2_moe, qwen2_vl, rag, realm, recurrent_gemma, reformer, regnet, rembert, resnet, retribert, roberta, roberta-prelayernorm, roc_bert, roformer, rt_detr, rt_detr_resnet, rwkv, sam, seamless_m4t, seamless_m4t_v2, segformer, seggpt, sew, sew-d, siglip, siglip_vision_model, speech-encoder-decoder, speech_to_text, speech_to_text_2, speecht5, splinter, squeezebert, stablelm, starcoder2, superpoint, swiftformer, swin, swin2sr, swinv2, switch_transformers, t5, table-transformer, tapas, time_series_transformer, timesformer, timm_backbone, trajectory_transformer, transfo-xl, trocr, tvlt, tvp, udop, umt5, unispeech, unispeech-sat, univnet, upernet, van, video_llava, videomae, vilt, vipllava, vision-encoder-decoder, vision-text-dual-encoder, visual_bert, vit, vit_hybrid, vit_mae, vit_msn, vitdet, vitmatte, vits, vivit, wav2vec2, wav2vec2-bert, wav2vec2-conformer, wavlm, whisper, xclip, xglm, xlm, xlm-prophetnet, xlm-roberta, xlm-roberta-xl, xlnet, xmod, yolos, yoso, zamba, zoedepth"
     ]
    }
   ],
   "source": [
    "from transformers import AutoProcessor, AutoModelForImageTextToText\n",
    "local_model_path = \"./models/Qwen2-VL-7B-Instruct\"\n",
    "processor = AutoProcessor.from_pretrained(local_model_path)\n",
    "model = AutoModelForImageTextToText.from_pretrained(local_model_path)\n",
    "inputs = processor(image, text, return_tensors=\"pt\", padding=\"max_length\", max_length=128, truncation=True)\n",
    "outputs = model(**inputs)\n",
    "predicted_ids = outputs.logits.argmax(-1)\n",
    "result = processor.decode(predicted_ids[0], skip_special_tokens=True)\n",
    "print(\"Qwen: \\n\", result)#.replace('\\n', ' ').replace(\".\", \"\").replace(\",\", \"\").replace(\":\", \"\").replace(\";\", \"\").replace(\"!\", \"\").replace(\"?\", \"\").replace(\"…\", \"\").replace(\"|\", \"\").replace(\"/\", \"\").replace(\"-\", \"\")\n"
   ]
  }
 ],
 "metadata": {
  "kernelspec": {
   "display_name": "venv",
   "language": "python",
   "name": "python3"
  },
  "language_info": {
   "codemirror_mode": {
    "name": "ipython",
    "version": 3
   },
   "file_extension": ".py",
   "mimetype": "text/x-python",
   "name": "python",
   "nbconvert_exporter": "python",
   "pygments_lexer": "ipython3",
   "version": "3.9.20"
  }
 },
 "nbformat": 4,
 "nbformat_minor": 2
}
