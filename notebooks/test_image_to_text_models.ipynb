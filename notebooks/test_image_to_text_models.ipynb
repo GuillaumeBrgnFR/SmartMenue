{
 "cells": [
  {
   "cell_type": "code",
   "execution_count": 1,
   "metadata": {},
   "outputs": [],
   "source": [
    "import os\n",
    "os.chdir(\"../\")\n",
    "\n",
    "import pytesseract\n",
    "import easyocr\n",
    "from PIL import Image"
   ]
  },
  {
   "cell_type": "code",
   "execution_count": 2,
   "metadata": {},
   "outputs": [],
   "source": [
    "filename = 'data/menues/002.jpg'\n",
    "filename_text = 'data/menues_text/002.txt'"
   ]
  },
  {
   "cell_type": "code",
   "execution_count": 3,
   "metadata": {},
   "outputs": [
    {
     "data": {
      "text/plain": [
       "'La cuisine de Linnéa & Xsénia Délicieuse Cuisine Internationale  PetitDéjeuner  Œufs et toast $300 Weisswurst et bretzel $500  Déjeuner  Sandwich $600 Cheeseburger ou hamburger $700 Poisson & champignons $800  Dessert  Gâteau au chocolat $400 Salade de fruits $200  Boissons  Thé $100 Limonade $200 Lait $300'"
      ]
     },
     "execution_count": 3,
     "metadata": {},
     "output_type": "execute_result"
    }
   ],
   "source": [
    "image = Image.open(filename)\n",
    "with open(filename_text, 'r') as f:\n",
    "    text = f.read().replace('\\n', ' ').replace(\".\", \"\").replace(\",\", \"\").replace(\":\", \"\").replace(\";\", \"\").replace(\"!\", \"\").replace(\"?\", \"\").replace(\"…\", \"\").replace(\"|\", \"\").replace(\"/\", \"\").replace(\"-\", \"\")\n",
    "text"
   ]
  },
  {
   "cell_type": "code",
   "execution_count": 4,
   "metadata": {},
   "outputs": [
    {
     "name": "stdout",
     "output_type": "stream",
     "text": [
      "EasyOCR: \n",
      " La cuisine de Linnéa & Xsénia Délicieuse Cuisine Internationale PetitDéjeuner Oeufs et toast $300 Weisswurst et bretzel $500 Déjeuner Sanduich $600 CheeSeburger ou hamburger $700 Poisson & champignons $800 Dessert Gâteau au chocolat $400 Salade de fruits $200 Boissons Thé $100 Limonade $200 Lat $300 4 8 C886 0886g 46866 88826\n"
     ]
    }
   ],
   "source": [
    "reader = easyocr.Reader(['fr'])\n",
    "result_ocr = reader.readtext(filename, detail=0) \n",
    "print(\"EasyOCR: \\n\", \"\\n\".join(result_ocr).replace('\\n', ' ').replace(\".\", \"\").replace(\",\", \"\").replace(\":\", \"\").replace(\";\", \"\").replace(\"!\", \"\").replace(\"?\", \"\").replace(\"…\", \"\").replace(\"|\", \"\").replace(\"/\", \"\").replace(\"-\", \"\"))"
   ]
  },
  {
   "cell_type": "code",
   "execution_count": 5,
   "metadata": {},
   "outputs": [
    {
     "name": "stdout",
     "output_type": "stream",
     "text": [
      "Tesseract: \n",
      " La CuiSine de Linnéa & XSéna Délicieuse Cuisine TInlerndionale  Petit Déjettner » Oeufs et toast $3 00 LL D ssunsé et Êretze $5 00  Déjeuner Cheesebutrger où hamburger $700  Poisson & champignons $800  Dessert  Gétlectt act chocol $400 Salade de fruits $200   Boissons î Thé $100 Een 8200 >   Lait $300  \n"
     ]
    }
   ],
   "source": [
    "result_tes = pytesseract.image_to_string(image, lang='fra')\n",
    "print(\"Tesseract: \\n\", result_tes.replace('\\n', ' ').replace(\".\", \"\").replace(\",\", \"\").replace(\":\", \"\").replace(\";\", \"\").replace(\"!\", \"\").replace(\"?\", \"\").replace(\"…\", \"\").replace(\"|\", \"\").replace(\"/\", \"\").replace(\"-\", \"\"))"
   ]
  }
 ],
 "metadata": {
  "kernelspec": {
   "display_name": "venv",
   "language": "python",
   "name": "python3"
  },
  "language_info": {
   "codemirror_mode": {
    "name": "ipython",
    "version": 3
   },
   "file_extension": ".py",
   "mimetype": "text/x-python",
   "name": "python",
   "nbconvert_exporter": "python",
   "pygments_lexer": "ipython3",
   "version": "3.9.20"
  }
 },
 "nbformat": 4,
 "nbformat_minor": 2
}
