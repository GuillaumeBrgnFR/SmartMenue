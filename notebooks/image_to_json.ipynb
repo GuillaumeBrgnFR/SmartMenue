{
 "cells": [
  {
   "cell_type": "code",
   "execution_count": 1,
   "metadata": {},
   "outputs": [
    {
     "name": "stdout",
     "output_type": "stream",
     "text": [
      "/Users/guillaume/Documents/Hackathon/SmartMenue\n"
     ]
    }
   ],
   "source": [
    "import os\n",
    "os.chdir(\"../\")\n",
    "print(os.getcwd())\n",
    "\n",
    "from src.models.image_to_text import extract_image_to_text\n",
    "from src.models.text_to_json import generate_json\n",
    "from src.models.text_to_text_allergene import add_allergene_to_json\n",
    "\n",
    "from src.pipelines.image_to_json_pipeline import image_to_json_pipeline"
   ]
  },
  {
   "cell_type": "code",
   "execution_count": 2,
   "metadata": {},
   "outputs": [],
   "source": [
    "filename_image = \"data/menues/001.jpg\""
   ]
  },
  {
   "cell_type": "code",
   "execution_count": 3,
   "metadata": {},
   "outputs": [
    {
     "name": "stderr",
     "output_type": "stream",
     "text": [
      "Some weights of the model checkpoint at facebook/detr-resnet-50 were not used when initializing DetrForObjectDetection: ['model.backbone.conv_encoder.model.layer1.0.downsample.1.num_batches_tracked', 'model.backbone.conv_encoder.model.layer2.0.downsample.1.num_batches_tracked', 'model.backbone.conv_encoder.model.layer3.0.downsample.1.num_batches_tracked', 'model.backbone.conv_encoder.model.layer4.0.downsample.1.num_batches_tracked']\n",
      "- This IS expected if you are initializing DetrForObjectDetection from the checkpoint of a model trained on another task or with another architecture (e.g. initializing a BertForSequenceClassification model from a BertForPreTraining model).\n",
      "- This IS NOT expected if you are initializing DetrForObjectDetection from the checkpoint of a model that you expect to be exactly identical (initializing a BertForSequenceClassification model from a BertForSequenceClassification model).\n"
     ]
    },
    {
     "ename": "TooManyRequestsError",
     "evalue": "status_code: 429, body: data=None message=\"You are using a Trial key, which is limited to 10 API calls / minute. You can continue to use the Trial key for free or upgrade to a Production key with higher rate limits at 'https://dashboard.cohere.com/api-keys'. Contact us on 'https://discord.gg/XW44jPfYJu' or email us at support@cohere.com with any questions\"",
     "output_type": "error",
     "traceback": [
      "\u001b[0;31m---------------------------------------------------------------------------\u001b[0m",
      "\u001b[0;31mTooManyRequestsError\u001b[0m                      Traceback (most recent call last)",
      "Cell \u001b[0;32mIn[3], line 2\u001b[0m\n\u001b[1;32m      1\u001b[0m res_json \u001b[38;5;241m=\u001b[39m image_to_json_pipeline(filename_image)\n\u001b[0;32m----> 2\u001b[0m res_json \u001b[38;5;241m=\u001b[39m \u001b[43madd_allergene_to_json\u001b[49m\u001b[43m(\u001b[49m\u001b[43mres_json\u001b[49m\u001b[43m)\u001b[49m\n\u001b[1;32m      3\u001b[0m res_json\n",
      "File \u001b[0;32m~/Documents/Hackathon/SmartMenue/src/models/text_to_text_allergene.py:25\u001b[0m, in \u001b[0;36madd_allergene_to_json\u001b[0;34m(json_data)\u001b[0m\n\u001b[1;32m     23\u001b[0m \u001b[38;5;28;01mdef\u001b[39;00m \u001b[38;5;21madd_allergene_to_json\u001b[39m(json_data):\n\u001b[1;32m     24\u001b[0m     \u001b[38;5;28;01mfor\u001b[39;00m category \u001b[38;5;129;01min\u001b[39;00m json_data:\n\u001b[0;32m---> 25\u001b[0m         item_allergenes \u001b[38;5;241m=\u001b[39m [text_to_allergene(item) \u001b[38;5;28;01mfor\u001b[39;00m item \u001b[38;5;129;01min\u001b[39;00m category[\u001b[38;5;124m'\u001b[39m\u001b[38;5;124mcategory_items\u001b[39m\u001b[38;5;124m'\u001b[39m]]\n\u001b[1;32m     26\u001b[0m         category[\u001b[38;5;124m'\u001b[39m\u001b[38;5;124mitem_allergene\u001b[39m\u001b[38;5;124m'\u001b[39m] \u001b[38;5;241m=\u001b[39m item_allergenes\n\u001b[1;32m     27\u001b[0m     \u001b[38;5;28;01mreturn\u001b[39;00m json_data\n",
      "File \u001b[0;32m~/Documents/Hackathon/SmartMenue/src/models/text_to_text_allergene.py:25\u001b[0m, in \u001b[0;36m<listcomp>\u001b[0;34m(.0)\u001b[0m\n\u001b[1;32m     23\u001b[0m \u001b[38;5;28;01mdef\u001b[39;00m \u001b[38;5;21madd_allergene_to_json\u001b[39m(json_data):\n\u001b[1;32m     24\u001b[0m     \u001b[38;5;28;01mfor\u001b[39;00m category \u001b[38;5;129;01min\u001b[39;00m json_data:\n\u001b[0;32m---> 25\u001b[0m         item_allergenes \u001b[38;5;241m=\u001b[39m [\u001b[43mtext_to_allergene\u001b[49m\u001b[43m(\u001b[49m\u001b[43mitem\u001b[49m\u001b[43m)\u001b[49m \u001b[38;5;28;01mfor\u001b[39;00m item \u001b[38;5;129;01min\u001b[39;00m category[\u001b[38;5;124m'\u001b[39m\u001b[38;5;124mcategory_items\u001b[39m\u001b[38;5;124m'\u001b[39m]]\n\u001b[1;32m     26\u001b[0m         category[\u001b[38;5;124m'\u001b[39m\u001b[38;5;124mitem_allergene\u001b[39m\u001b[38;5;124m'\u001b[39m] \u001b[38;5;241m=\u001b[39m item_allergenes\n\u001b[1;32m     27\u001b[0m     \u001b[38;5;28;01mreturn\u001b[39;00m json_data\n",
      "File \u001b[0;32m~/Documents/Hackathon/SmartMenue/src/models/text_to_text_allergene.py:14\u001b[0m, in \u001b[0;36mtext_to_allergene\u001b[0;34m(name_dish)\u001b[0m\n\u001b[1;32m      7\u001b[0m \u001b[38;5;28;01mdef\u001b[39;00m \u001b[38;5;21mtext_to_allergene\u001b[39m(name_dish:\u001b[38;5;28mstr\u001b[39m):\n\u001b[1;32m      8\u001b[0m     prompt \u001b[38;5;241m=\u001b[39m (\n\u001b[1;32m      9\u001b[0m         \u001b[38;5;124mf\u001b[39m\u001b[38;5;124m\"\u001b[39m\u001b[38;5;124mVoici le nom d\u001b[39m\u001b[38;5;124m'\u001b[39m\u001b[38;5;124mun plat de restaurant : \u001b[39m\u001b[38;5;132;01m{\u001b[39;00mname_dish\u001b[38;5;132;01m}\u001b[39;00m\u001b[38;5;124m.\u001b[39m\u001b[38;5;124m\"\u001b[39m\n\u001b[1;32m     10\u001b[0m         \u001b[38;5;124m\"\u001b[39m\u001b[38;5;124mDonne moi la liste des allergènes présents dans ce plat sous la forme d\u001b[39m\u001b[38;5;124m'\u001b[39m\u001b[38;5;124mune chaine de caractères séparés par des virgules.\u001b[39m\u001b[38;5;124m\"\u001b[39m\n\u001b[1;32m     11\u001b[0m         \u001b[38;5;124m\"\u001b[39m\u001b[38;5;124mS\u001b[39m\u001b[38;5;124m'\u001b[39m\u001b[38;5;124mil est possible que des allergènes soient présent dans un tel plat, même sans être sur, tu peux les mentionner.\u001b[39m\u001b[38;5;124m\"\u001b[39m\n\u001b[1;32m     12\u001b[0m     )\n\u001b[0;32m---> 14\u001b[0m     response \u001b[38;5;241m=\u001b[39m \u001b[43mco\u001b[49m\u001b[38;5;241;43m.\u001b[39;49m\u001b[43mchat\u001b[49m\u001b[43m(\u001b[49m\n\u001b[1;32m     15\u001b[0m \u001b[43m        \u001b[49m\u001b[43mmodel\u001b[49m\u001b[38;5;241;43m=\u001b[39;49m\u001b[38;5;124;43m\"\u001b[39;49m\u001b[38;5;124;43mcommand-r-plus-08-2024\u001b[39;49m\u001b[38;5;124;43m\"\u001b[39;49m\u001b[43m,\u001b[49m\n\u001b[1;32m     16\u001b[0m \u001b[43m        \u001b[49m\u001b[43mmessages\u001b[49m\u001b[38;5;241;43m=\u001b[39;49m\u001b[43m[\u001b[49m\u001b[43m{\u001b[49m\u001b[38;5;124;43m\"\u001b[39;49m\u001b[38;5;124;43mrole\u001b[39;49m\u001b[38;5;124;43m\"\u001b[39;49m\u001b[43m:\u001b[49m\u001b[43m \u001b[49m\u001b[38;5;124;43m\"\u001b[39;49m\u001b[38;5;124;43muser\u001b[39;49m\u001b[38;5;124;43m\"\u001b[39;49m\u001b[43m,\u001b[49m\u001b[43m \u001b[49m\u001b[38;5;124;43m\"\u001b[39;49m\u001b[38;5;124;43mcontent\u001b[39;49m\u001b[38;5;124;43m\"\u001b[39;49m\u001b[43m:\u001b[49m\u001b[43mprompt\u001b[49m\u001b[43m}\u001b[49m\u001b[43m]\u001b[49m\u001b[43m,\u001b[49m\n\u001b[1;32m     17\u001b[0m \u001b[43m    \u001b[49m\u001b[43m)\u001b[49m\n\u001b[1;32m     19\u001b[0m     \u001b[38;5;28;01mreturn\u001b[39;00m response\u001b[38;5;241m.\u001b[39mdict()[\u001b[38;5;124m\"\u001b[39m\u001b[38;5;124mmessage\u001b[39m\u001b[38;5;124m\"\u001b[39m][\u001b[38;5;124m'\u001b[39m\u001b[38;5;124mcontent\u001b[39m\u001b[38;5;124m'\u001b[39m][\u001b[38;5;241m0\u001b[39m][\u001b[38;5;124m'\u001b[39m\u001b[38;5;124mtext\u001b[39m\u001b[38;5;124m'\u001b[39m]\n",
      "File \u001b[0;32m~/Documents/Hackathon/SmartMenue/venv/lib/python3.9/site-packages/cohere/client.py:103\u001b[0m, in \u001b[0;36mexperimental_kwarg_decorator.<locals>._wrapped\u001b[0;34m(*args, **kwargs)\u001b[0m\n\u001b[1;32m     98\u001b[0m \u001b[38;5;28;01mif\u001b[39;00m check_kwarg(deprecated_kwarg, kwargs):\n\u001b[1;32m     99\u001b[0m     logger\u001b[38;5;241m.\u001b[39mwarning(\n\u001b[1;32m    100\u001b[0m         \u001b[38;5;124mf\u001b[39m\u001b[38;5;124m\"\u001b[39m\u001b[38;5;124mThe `\u001b[39m\u001b[38;5;132;01m{\u001b[39;00mdeprecated_kwarg\u001b[38;5;132;01m}\u001b[39;00m\u001b[38;5;124m` parameter is an experimental feature and may change in future releases.\u001b[39m\u001b[38;5;130;01m\\n\u001b[39;00m\u001b[38;5;124m\"\u001b[39m\n\u001b[1;32m    101\u001b[0m         \u001b[38;5;124m\"\u001b[39m\u001b[38;5;124mTo suppress this warning, set `log_warning_experimental_features=False` when initializing the client.\u001b[39m\u001b[38;5;124m\"\u001b[39m\n\u001b[1;32m    102\u001b[0m     )\n\u001b[0;32m--> 103\u001b[0m \u001b[38;5;28;01mreturn\u001b[39;00m \u001b[43mfunc\u001b[49m\u001b[43m(\u001b[49m\u001b[38;5;241;43m*\u001b[39;49m\u001b[43margs\u001b[49m\u001b[43m,\u001b[49m\u001b[43m \u001b[49m\u001b[38;5;241;43m*\u001b[39;49m\u001b[38;5;241;43m*\u001b[39;49m\u001b[43mkwargs\u001b[49m\u001b[43m)\u001b[49m\n",
      "File \u001b[0;32m~/Documents/Hackathon/SmartMenue/venv/lib/python3.9/site-packages/cohere/client.py:35\u001b[0m, in \u001b[0;36mvalidate_args.<locals>._wrapped\u001b[0;34m(*args, **kwargs)\u001b[0m\n\u001b[1;32m     33\u001b[0m \u001b[38;5;28;01mdef\u001b[39;00m \u001b[38;5;21m_wrapped\u001b[39m(\u001b[38;5;241m*\u001b[39margs: typing\u001b[38;5;241m.\u001b[39mAny, \u001b[38;5;241m*\u001b[39m\u001b[38;5;241m*\u001b[39mkwargs: typing\u001b[38;5;241m.\u001b[39mAny) \u001b[38;5;241m-\u001b[39m\u001b[38;5;241m>\u001b[39m typing\u001b[38;5;241m.\u001b[39mAny:\n\u001b[1;32m     34\u001b[0m     check_fn(\u001b[38;5;241m*\u001b[39margs, \u001b[38;5;241m*\u001b[39m\u001b[38;5;241m*\u001b[39mkwargs)\n\u001b[0;32m---> 35\u001b[0m     \u001b[38;5;28;01mreturn\u001b[39;00m \u001b[43mmethod\u001b[49m\u001b[43m(\u001b[49m\u001b[38;5;241;43m*\u001b[39;49m\u001b[43margs\u001b[49m\u001b[43m,\u001b[49m\u001b[43m \u001b[49m\u001b[38;5;241;43m*\u001b[39;49m\u001b[38;5;241;43m*\u001b[39;49m\u001b[43mkwargs\u001b[49m\u001b[43m)\u001b[49m\n",
      "File \u001b[0;32m~/Documents/Hackathon/SmartMenue/venv/lib/python3.9/site-packages/cohere/v2/client.py:620\u001b[0m, in \u001b[0;36mV2Client.chat\u001b[0;34m(self, model, messages, tools, documents, citation_options, response_format, safety_mode, max_tokens, stop_sequences, temperature, seed, frequency_penalty, presence_penalty, k, p, return_prompt, logprobs, request_options)\u001b[0m\n\u001b[1;32m    610\u001b[0m     \u001b[38;5;28;01mraise\u001b[39;00m UnprocessableEntityError(\n\u001b[1;32m    611\u001b[0m         typing\u001b[38;5;241m.\u001b[39mcast(\n\u001b[1;32m    612\u001b[0m             UnprocessableEntityErrorBody,\n\u001b[0;32m   (...)\u001b[0m\n\u001b[1;32m    617\u001b[0m         )\n\u001b[1;32m    618\u001b[0m     )\n\u001b[1;32m    619\u001b[0m \u001b[38;5;28;01mif\u001b[39;00m _response\u001b[38;5;241m.\u001b[39mstatus_code \u001b[38;5;241m==\u001b[39m \u001b[38;5;241m429\u001b[39m:\n\u001b[0;32m--> 620\u001b[0m     \u001b[38;5;28;01mraise\u001b[39;00m TooManyRequestsError(\n\u001b[1;32m    621\u001b[0m         typing\u001b[38;5;241m.\u001b[39mcast(\n\u001b[1;32m    622\u001b[0m             TooManyRequestsErrorBody,\n\u001b[1;32m    623\u001b[0m             construct_type(\n\u001b[1;32m    624\u001b[0m                 type_\u001b[38;5;241m=\u001b[39mTooManyRequestsErrorBody,  \u001b[38;5;66;03m# type: ignore\u001b[39;00m\n\u001b[1;32m    625\u001b[0m                 object_\u001b[38;5;241m=\u001b[39m_response\u001b[38;5;241m.\u001b[39mjson(),\n\u001b[1;32m    626\u001b[0m             ),\n\u001b[1;32m    627\u001b[0m         )\n\u001b[1;32m    628\u001b[0m     )\n\u001b[1;32m    629\u001b[0m \u001b[38;5;28;01mif\u001b[39;00m _response\u001b[38;5;241m.\u001b[39mstatus_code \u001b[38;5;241m==\u001b[39m \u001b[38;5;241m499\u001b[39m:\n\u001b[1;32m    630\u001b[0m     \u001b[38;5;28;01mraise\u001b[39;00m ClientClosedRequestError(\n\u001b[1;32m    631\u001b[0m         typing\u001b[38;5;241m.\u001b[39mcast(\n\u001b[1;32m    632\u001b[0m             ClientClosedRequestErrorBody,\n\u001b[0;32m   (...)\u001b[0m\n\u001b[1;32m    637\u001b[0m         )\n\u001b[1;32m    638\u001b[0m     )\n",
      "\u001b[0;31mTooManyRequestsError\u001b[0m: status_code: 429, body: data=None message=\"You are using a Trial key, which is limited to 10 API calls / minute. You can continue to use the Trial key for free or upgrade to a Production key with higher rate limits at 'https://dashboard.cohere.com/api-keys'. Contact us on 'https://discord.gg/XW44jPfYJu' or email us at support@cohere.com with any questions\""
     ]
    }
   ],
   "source": [
    "res_json = image_to_json_pipeline(filename_image)\n",
    "res_json = add_allergene_to_json(res_json)\n",
    "res_json"
   ]
  },
  {
   "cell_type": "code",
   "execution_count": 4,
   "metadata": {},
   "outputs": [
    {
     "data": {
      "text/plain": [
       "[{'category_name': 'De la ferme',\n",
       "  'category_items': ['Cuisse de canard confit, frites maison, salade',\n",
       "   'Magret de canard servi entier, frites maison ou salade, sauce Bordelaise'],\n",
       "  'category_prices': [15.9, 22.9]},\n",
       " {'category_name': 'A la criée',\n",
       "  'category_items': ['Poisson du moment, accompagné de légumes et riz'],\n",
       "  'category_prices': [16.5]},\n",
       " {'category_name': 'Menu Petits Girondins',\n",
       "  'category_items': [\"Steak haché ou Fish'n'Chips\",\n",
       "   'Glace (chocolat, vanille, fraise) ou Moelleux au chocolat'],\n",
       "  'category_prices': [9.9]},\n",
       " {'category_name': 'Menu végétarien',\n",
       "  'category_items': [\"Tapenade d'olives noires maison et ses toasts\",\n",
       "   'Tatin de légumes au pesto et salade fraîcheur (Crudités)',\n",
       "   'Salade de fruits ou Dessert au choix'],\n",
       "  'category_prices': [19.5]},\n",
       " {'category_name': 'Desserts',\n",
       "  'category_items': ['Niniche Bordelaise',\n",
       "   'Panna cotta (fruits rouges ou caramel)',\n",
       "   'Tiramisu',\n",
       "   'Crème brûlée',\n",
       "   'Crème Citron / Passion Spéculoos',\n",
       "   'Coulant au chocolat',\n",
       "   'Trois boules de glace (Vanille, chocolat, fraise)',\n",
       "   'Pain perdu et sa glace vanille',\n",
       "   'Café gourmand',\n",
       "   \"Brebis fermier de la vallée d'Ossau, confiture de cerises noires\"],\n",
       "  'category_prices': [6.9, 6.9, 7.5, 150, 7.5, 7.5, 7.5, 8.5, 8.5, 7.9]}]"
      ]
     },
     "execution_count": 4,
     "metadata": {},
     "output_type": "execute_result"
    }
   ],
   "source": [
    "res_json = generate_json(extract_image_to_text(filename_image, model_name=\"pytesseract\"))\n",
    "res_json"
   ]
  },
  {
   "cell_type": "code",
   "execution_count": 4,
   "metadata": {},
   "outputs": [
    {
     "data": {
      "text/plain": [
       "[{'category_name': 'Petit-Déjeuner',\n",
       "  'category_items': ['Oeufs et toast', 'Dessert et fruits'],\n",
       "  'category_prices': ['3.00', '5.00']},\n",
       " {'category_name': 'Déjeuner',\n",
       "  'category_items': ['Cheeseburger', 'Hamburger', 'Poisson et champignons'],\n",
       "  'category_prices': ['7.00', '7.00', '8.00']},\n",
       " {'category_name': 'Desserts',\n",
       "  'category_items': ['Gâteau au chocolat', 'Salade de fruits'],\n",
       "  'category_prices': ['4.00', '2.00']},\n",
       " {'category_name': 'Boissons',\n",
       "  'category_items': ['Thé', 'Café', 'Lait'],\n",
       "  'category_prices': ['1.00', '2.00', '3.00']}]"
      ]
     },
     "execution_count": 4,
     "metadata": {},
     "output_type": "execute_result"
    }
   ],
   "source": [
    "filename_image = \"data/menues/002.jpg\"\n",
    "res_json = generate_json(extract_image_to_text(filename_image, model_name=\"pytesseract\"))\n",
    "res_json"
   ]
  },
  {
   "cell_type": "code",
   "execution_count": 5,
   "metadata": {},
   "outputs": [
    {
     "data": {
      "text/plain": [
       "[{'category_name': 'Entrées',\n",
       "  'category_items': ['Ardoise : Entrée du jour / Soupe ou velouté du jour / Salade du jour',\n",
       "   'Terrine de campagne (porc et volaille), cornichons et salade d’herbes',\n",
       "   \"Traditionnelle soupe à l'oignon gratinée au Comté\",\n",
       "   'Tataki de saumon, pickles maison et jus aux jalapenos',\n",
       "   'Gratin d’écrevisses au beurre rouge, paprika et croutons x6',\n",
       "   'Escargots chauds en persillade dans leur coquille x6'],\n",
       "  'category_prices': [10, 12, 12, 14, 12, 14]},\n",
       " {'category_name': 'Plats',\n",
       "  'category_items': ['Ardoise : Viande',\n",
       "   'Ardoise : Poisson',\n",
       "   'Ardoise : Plat végétarien',\n",
       "   'Burger de bœuf français (160g) au Comté, frites maison et salade',\n",
       "   'Bœuf Bourguignon méthode traditionnelle, purée de pommes de terre',\n",
       "   'Filet de bar rôti au thym, petits légumes de saison, sauce pesto',\n",
       "   'Blanquette de veau façon « Grand-Mère » accompagné de riz',\n",
       "   'Pièce de bœuf « Black Angus », frites et sauce béarnaise maison'],\n",
       "  'category_prices': [24, 24, 20, 22, 22, 26, 20, 34]},\n",
       " {'category_name': 'Desserts',\n",
       "  'category_items': ['Ardoise : Desserts',\n",
       "   'Assortiment de 3 fromages',\n",
       "   'Mi-cuit au chocolat au cœur de Gianduja, crème aux « Fèves Tonka »',\n",
       "   'Cheesecake à la vanille de Tahiti & fruits rouges',\n",
       "   'Baba au rhum, tombée d’ananas caramélisés, crème chantilly',\n",
       "   'Fraîcheur de fruits coupés',\n",
       "   'Sorbet du moment maison'],\n",
       "  'category_prices': [10, 10, 13, 12, 10, 10, 10]}]"
      ]
     },
     "execution_count": 5,
     "metadata": {},
     "output_type": "execute_result"
    }
   ],
   "source": [
    "filename_image = \"data/menues/003.jpg\"\n",
    "res_json = generate_json(extract_image_to_text(filename_image, model_name=\"pytesseract\"))\n",
    "res_json"
   ]
  },
  {
   "cell_type": "code",
   "execution_count": 6,
   "metadata": {},
   "outputs": [
    {
     "data": {
      "text/plain": [
       "[{'category_name': 'Entrées',\n",
       "  'category_items': ['Bufala e Rucola'],\n",
       "  'category_prices': []},\n",
       " {'category_name': 'Plats',\n",
       "  'category_items': ['Saumon Grillé', 'Tagliata'],\n",
       "  'category_prices': []},\n",
       " {'category_name': 'Desserts',\n",
       "  'category_items': ['Tiramisü'],\n",
       "  'category_prices': []}]"
      ]
     },
     "execution_count": 6,
     "metadata": {},
     "output_type": "execute_result"
    }
   ],
   "source": [
    "filename_image = \"data/menues/004.png\"\n",
    "res_json = generate_json(extract_image_to_text(filename_image, model_name=\"pytesseract\"))\n",
    "res_json"
   ]
  },
  {
   "cell_type": "code",
   "execution_count": 7,
   "metadata": {},
   "outputs": [
    {
     "data": {
      "text/plain": [
       "[{'category_name': 'Entrées',\n",
       "  'category_items': ['Soupe de légumes',\n",
       "   \"Sardines à l'huile d'arachide, millésimées «La Quiberonnaise»\",\n",
       "   'Oeufs mimosa du Café Français',\n",
       "   'Foie gras de canard mi-cuit, chutney sur toast',\n",
       "   'Oeuf poché au foie gras',\n",
       "   'Cassolette d’escargots à la Bordelaise « Petits Gris des Charentes » (petite)',\n",
       "   'Cassolette d’escargots à la Bordelaise « Petits Gris des Charentes » (grande)'],\n",
       "  'category_prices': [10.0, 12.0, 7.0, 19.0, 15.0, 18.0, 28.0]},\n",
       " {'category_name': 'Huîtres',\n",
       "  'category_items': ['Gillardeau n°3 x6',\n",
       "   'Gillardeau n°3 x9',\n",
       "   'Gillardeau n°3 x12',\n",
       "   'Perles de l’Impératice n°3 de Joël Dupuch x6',\n",
       "   'Perles de l’Impératice n°3 de Joël Dupuch x9',\n",
       "   'Perles de l’Impératice n°3 de Joël Dupuch x12',\n",
       "   'Deux saucisses en accompagnement',\n",
       "   \"Verre d'entre-deux-mers\"],\n",
       "  'category_prices': [18.0, 26.0, 35.0, 12.0, 18.0, 24.0, 6.2, 4.6]},\n",
       " {'category_name': 'Salades',\n",
       "  'category_items': ['Salade Caesar',\n",
       "   'Salade du Sud Ouest',\n",
       "   'Salade Océane',\n",
       "   'Salade de Crottin de Chavignol aux lardons',\n",
       "   'Salade Maraîchère'],\n",
       "  'category_prices': [21.0, 19.5, 19.0, 18.0, 17.0]},\n",
       " {'category_name': 'Menus',\n",
       "  'category_items': ['Entrée + Plat',\n",
       "   'Plat + Dessert',\n",
       "   'Entrée + Plat + Dessert'],\n",
       "  'category_prices': [29.0, 25.0, 27.8]}]"
      ]
     },
     "execution_count": 7,
     "metadata": {},
     "output_type": "execute_result"
    }
   ],
   "source": [
    "filename_image = \"data/menues/007.jpg\"\n",
    "res_json = generate_json(extract_image_to_text(filename_image, model_name=\"pytesseract\"))\n",
    "res_json"
   ]
  }
 ],
 "metadata": {
  "kernelspec": {
   "display_name": "venv",
   "language": "python",
   "name": "python3"
  },
  "language_info": {
   "codemirror_mode": {
    "name": "ipython",
    "version": 3
   },
   "file_extension": ".py",
   "mimetype": "text/x-python",
   "name": "python",
   "nbconvert_exporter": "python",
   "pygments_lexer": "ipython3",
   "version": "3.9.20"
  }
 },
 "nbformat": 4,
 "nbformat_minor": 2
}
