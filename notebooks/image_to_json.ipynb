{
 "cells": [
  {
   "cell_type": "code",
   "execution_count": 1,
   "metadata": {},
   "outputs": [],
   "source": [
    "import os\n",
    "os.chdir(\"../\")\n",
    "\n",
    "from src.models.image_to_text import extract_image_to_text\n",
    "from src.models.text_to_json import generate_json"
   ]
  },
  {
   "cell_type": "code",
   "execution_count": 2,
   "metadata": {},
   "outputs": [],
   "source": [
    "filename_image = \"data/menues/001.jpg\""
   ]
  },
  {
   "cell_type": "code",
   "execution_count": 3,
   "metadata": {},
   "outputs": [
    {
     "data": {
      "text/plain": [
       "[{'category_name': 'De la ferme',\n",
       "  'category_items': ['Cuisse de canard confit, frites maison, salade',\n",
       "   'Le magret de canard servi entier, frites maison ou salade, sauce Bordelaise'],\n",
       "  'category_prices': [15.9, 22.9]},\n",
       " {'category_name': 'A la criée',\n",
       "  'category_items': ['Poisson du moment, selon arrivage, accompagné de légumes et riz'],\n",
       "  'category_prices': [16.5]},\n",
       " {'category_name': 'Menu Petits Girondins',\n",
       "  'category_items': [\"Steak haché ou Fish'n'Chips, glace (chocolat, vanille, fraise) ou moelleux au chocolat\"],\n",
       "  'category_prices': [9.9]},\n",
       " {'category_name': 'Menu végétarien',\n",
       "  'category_items': [\"Tapenade d'olives noires maison et ses toasts\",\n",
       "   'Tatin de légumes au pesto et salade fraîcheur (crudités)',\n",
       "   'Salade de fruits ou dessert au choix'],\n",
       "  'category_prices': [19.5]},\n",
       " {'category_name': 'Nos Desserts',\n",
       "  'category_items': ['Niniche Bordelaise',\n",
       "   'Panna cotta (fruits rouges ou caramel)',\n",
       "   'Tiramisu',\n",
       "   'Crème brûlée',\n",
       "   'Crème citron / passion spéculoos',\n",
       "   'Coulant au chocolat',\n",
       "   'Trois boules de glace (vanille, chocolat, fraise)',\n",
       "   'Pain perdu et sa glace vanille',\n",
       "   'Café gourmand',\n",
       "   \"Brebis fermier de la vallée d'Ossau, confiture de cerises noires\"],\n",
       "  'category_prices': [6.9, 6.9, 7.5, 150, 7.5, 7.5, 7.5, 8.5, 8.5, 7.9]}]"
      ]
     },
     "execution_count": 3,
     "metadata": {},
     "output_type": "execute_result"
    }
   ],
   "source": [
    "res_json = generate_json(extract_image_to_text(filename_image, model_name=\"pytesseract\"))\n",
    "res_json"
   ]
  },
  {
   "cell_type": "code",
   "execution_count": 4,
   "metadata": {},
   "outputs": [
    {
     "data": {
      "text/plain": [
       "[{'category_name': 'Petit-Déjeuner',\n",
       "  'category_items': ['Oeufs et toast', 'Dessert et fruits'],\n",
       "  'category_prices': ['3.00', '5.00']},\n",
       " {'category_name': 'Déjeuner',\n",
       "  'category_items': ['Cheeseburger', 'Hamburger', 'Poisson et champignons'],\n",
       "  'category_prices': ['7.00', '7.00', '8.00']},\n",
       " {'category_name': 'Desserts',\n",
       "  'category_items': ['Gâteau au chocolat', 'Salade de fruits'],\n",
       "  'category_prices': ['4.00', '2.00']},\n",
       " {'category_name': 'Boissons',\n",
       "  'category_items': ['Thé', 'Café', 'Lait'],\n",
       "  'category_prices': ['1.00', '2.00', '3.00']}]"
      ]
     },
     "execution_count": 4,
     "metadata": {},
     "output_type": "execute_result"
    }
   ],
   "source": [
    "filename_image = \"data/menues/002.jpg\"\n",
    "res_json = generate_json(extract_image_to_text(filename_image, model_name=\"pytesseract\"))\n",
    "res_json"
   ]
  },
  {
   "cell_type": "code",
   "execution_count": 5,
   "metadata": {},
   "outputs": [
    {
     "data": {
      "text/plain": [
       "[{'category_name': 'Entrées',\n",
       "  'category_items': ['Ardoise : Entrée du jour / Soupe ou velouté du jour / Salade du jour',\n",
       "   'Terrine de campagne (porc et volaille), cornichons et salade d’herbes',\n",
       "   \"Traditionnelle soupe à l'oignon gratinée au Comté\",\n",
       "   'Tataki de saumon, pickles maison et jus aux jalapenos',\n",
       "   'Gratin d’écrevisses au beurre rouge, paprika et croutons (x6 ou x12)',\n",
       "   'Escargots chauds en persillade dans leur coquille (x6 ou x12)'],\n",
       "  'category_prices': [10, 12, 12, 14, [12, 20], [14, 22]]},\n",
       " {'category_name': 'Plats',\n",
       "  'category_items': ['Ardoise : Viande / Poisson / Plat végétarien',\n",
       "   'Burger de bœuf français, frites maison et salade',\n",
       "   'Bœuf Bourguignon, purée de pommes de terre',\n",
       "   'Filet de bar rôti, petits légumes de saison, sauce pesto',\n",
       "   'Blanquette de veau, riz',\n",
       "   'Pièce de bœuf « Black Angus », frites et sauce béarnaise maison'],\n",
       "  'category_prices': [[24, 24, 20], 22, 22, 26, 20, 34]},\n",
       " {'category_name': 'Desserts',\n",
       "  'category_items': ['Ardoise : Desserts',\n",
       "   'Assortiment de 3 fromages',\n",
       "   'Mi-cuit au chocolat, crème aux « Fèves Tonka »',\n",
       "   'Cheesecake à la vanille de Tahiti et fruits rouges',\n",
       "   'Baba au rhum, ananas caramélisés, crème chantilly',\n",
       "   'Fraîcheur de fruits coupés',\n",
       "   'Sorbet du moment maison'],\n",
       "  'category_prices': [10, 10, 13, 12, 10, 10, 10]}]"
      ]
     },
     "execution_count": 5,
     "metadata": {},
     "output_type": "execute_result"
    }
   ],
   "source": [
    "filename_image = \"data/menues/003.jpg\"\n",
    "res_json = generate_json(extract_image_to_text(filename_image, model_name=\"pytesseract\"))\n",
    "res_json"
   ]
  },
  {
   "cell_type": "code",
   "execution_count": 6,
   "metadata": {},
   "outputs": [
    {
     "data": {
      "text/plain": [
       "[{'category_name': 'Entrées',\n",
       "  'category_items': ['Bufala e Rucola'],\n",
       "  'category_prices': []},\n",
       " {'category_name': 'Plats',\n",
       "  'category_items': ['Saumon Grillé', 'Tagliata'],\n",
       "  'category_prices': []},\n",
       " {'category_name': 'Desserts',\n",
       "  'category_items': ['Tiramisü'],\n",
       "  'category_prices': []}]"
      ]
     },
     "execution_count": 6,
     "metadata": {},
     "output_type": "execute_result"
    }
   ],
   "source": [
    "filename_image = \"data/menues/004.png\"\n",
    "res_json = generate_json(extract_image_to_text(filename_image, model_name=\"pytesseract\"))\n",
    "res_json"
   ]
  },
  {
   "cell_type": "code",
   "execution_count": 10,
   "metadata": {},
   "outputs": [
    {
     "data": {
      "text/plain": [
       "[{'category_name': 'Entrées',\n",
       "  'category_items': ['Soupe de légumes',\n",
       "   \"Sardines à l'huile d'arachide, millésimées «La Quiberonnaise»\",\n",
       "   'Oeufs mimosa du Café Français',\n",
       "   'Foie gras de canard mi-cuit, chutney sur toast',\n",
       "   'Oeuf poché au foie gras',\n",
       "   'Cassolette d’escargots à la Bordelaise « Petits Gris des Charentes » (petite)',\n",
       "   'Cassolette d’escargots à la Bordelaise « Petits Gris des Charentes » (grande)'],\n",
       "  'category_prices': [10.0, 12.0, 7.0, 19.0, 15.0, 18.0, 28.0]},\n",
       " {'category_name': 'Huîtres',\n",
       "  'category_items': ['Gillardeau n°3 x6',\n",
       "   'Gillardeau n°3 x9',\n",
       "   'Gillardeau n°3 x12',\n",
       "   'Perles de l’Impératice n°3 de Joël Dupuch x6',\n",
       "   'Perles de l’Impératice n°3 de Joël Dupuch x9',\n",
       "   'Perles de l’Impératice n°3 de Joël Dupuch x12',\n",
       "   'Deux saucisses en accompagnement',\n",
       "   \"Verre d'entre-deux-mers\"],\n",
       "  'category_prices': [18.0, 26.0, 35.0, 12.0, 18.0, 24.0, 6.2, 4.6]},\n",
       " {'category_name': 'Salades',\n",
       "  'category_items': ['Salade Caesar',\n",
       "   'Salade du Sud Ouest',\n",
       "   'Salade Océane',\n",
       "   'Salade de Crottin de Chavignol aux lardons',\n",
       "   'Salade Maraîchère'],\n",
       "  'category_prices': [21.0, 21.0, 19.5, 18.0, 17.0]},\n",
       " {'category_name': 'Formules',\n",
       "  'category_items': ['Entrée + Plat',\n",
       "   'Plat + Dessert',\n",
       "   'Entrée + Plat + Dessert'],\n",
       "  'category_prices': [29.0, 25.0, 27.8]}]"
      ]
     },
     "execution_count": 10,
     "metadata": {},
     "output_type": "execute_result"
    }
   ],
   "source": [
    "filename_image = \"data/menues/007.jpg\"\n",
    "res_json = generate_json(extract_image_to_text(filename_image, model_name=\"pytesseract\"))\n",
    "res_json"
   ]
  }
 ],
 "metadata": {
  "kernelspec": {
   "display_name": "venv",
   "language": "python",
   "name": "python3"
  },
  "language_info": {
   "codemirror_mode": {
    "name": "ipython",
    "version": 3
   },
   "file_extension": ".py",
   "mimetype": "text/x-python",
   "name": "python",
   "nbconvert_exporter": "python",
   "pygments_lexer": "ipython3",
   "version": "3.9.20"
  }
 },
 "nbformat": 4,
 "nbformat_minor": 2
}
